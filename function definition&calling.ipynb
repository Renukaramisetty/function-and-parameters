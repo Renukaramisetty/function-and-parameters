{
 "cells": [
  {
   "cell_type": "code",
   "execution_count": 6,
   "id": "059772b1-ad8d-4207-8f0c-dc07b8d63b31",
   "metadata": {},
   "outputs": [
    {
     "name": "stdout",
     "output_type": "stream",
     "text": [
      "30\n",
      "None\n"
     ]
    }
   ],
   "source": [
    "#without parameters and without return\n",
    "def addition():\n",
    "    a=10\n",
    "    b=20\n",
    "    print(a+b)\n",
    "res=addition()\n",
    "print(res)\n"
   ]
  },
  {
   "cell_type": "code",
   "execution_count": 7,
   "id": "407db8cc-d97e-4df9-badb-5fa2f93090f8",
   "metadata": {},
   "outputs": [
    {
     "name": "stdout",
     "output_type": "stream",
     "text": [
      "30\n"
     ]
    }
   ],
   "source": [
    "#without parameters and with return\n",
    "def addition():\n",
    "    a=10\n",
    "    b=20\n",
    "    return(a+b)\n",
    "res=addition()\n",
    "print(res)\n",
    "\n"
   ]
  },
  {
   "cell_type": "code",
   "execution_count": 12,
   "id": "eb7e4882-add9-449c-8249-ec7b75c28935",
   "metadata": {},
   "outputs": [
    {
     "name": "stdout",
     "output_type": "stream",
     "text": [
      "25\n",
      "None\n"
     ]
    }
   ],
   "source": [
    "#with parameters and without return\n",
    "def addition(a,b):\n",
    "    print(a+b)\n",
    "res=addition(10,15)\n",
    "print(res)"
   ]
  },
  {
   "cell_type": "code",
   "execution_count": 13,
   "id": "60fb4992-6bce-42a1-9e49-7e4186a8cc83",
   "metadata": {},
   "outputs": [
    {
     "name": "stdout",
     "output_type": "stream",
     "text": [
      "25\n"
     ]
    }
   ],
   "source": [
    "#with parameters and with return\\\n",
    "def addition(a,b):\n",
    "    c=a+b\n",
    "    return c\n",
    "res=addition(10,15)\n",
    "print(res)"
   ]
  },
  {
   "cell_type": "code",
   "execution_count": null,
   "id": "e534a640-da7c-4607-af72-c4347db8c92a",
   "metadata": {},
   "outputs": [],
   "source": []
  }
 ],
 "metadata": {
  "kernelspec": {
   "display_name": "Python 3 (ipykernel)",
   "language": "python",
   "name": "python3"
  },
  "language_info": {
   "codemirror_mode": {
    "name": "ipython",
    "version": 3
   },
   "file_extension": ".py",
   "mimetype": "text/x-python",
   "name": "python",
   "nbconvert_exporter": "python",
   "pygments_lexer": "ipython3",
   "version": "3.13.5"
  }
 },
 "nbformat": 4,
 "nbformat_minor": 5
}
